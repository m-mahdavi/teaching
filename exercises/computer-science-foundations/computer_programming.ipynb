{
 "cells": [
  {
   "cell_type": "markdown",
   "metadata": {},
   "source": [
    "# Computer Programming"
   ]
  },
  {
   "cell_type": "markdown",
   "metadata": {},
   "source": [
    "## Count Seconds in a Decade\n",
    "Write a Python program to calculate the number of seconds in 10 years. Assume that we have 2 leap years in this period. Assign the result into a variable named `seconds_in_10_years`."
   ]
  },
  {
   "cell_type": "code",
   "execution_count": null,
   "metadata": {
    "vscode": {
     "languageId": "plaintext"
    }
   },
   "outputs": [],
   "source": []
  },
  {
   "cell_type": "markdown",
   "metadata": {},
   "source": [
    "## Remove Vowels\n",
    "Write a Python program that takes a string, makes the character lowercase, removes its vowel characters (`\"a\"`, `\"e\"`, `\"i\"`, `\"o\"`, and `\"u\"`) and prints the result. For example, given the string `\"Hello\"`, the program should print `\"hll\"`."
   ]
  },
  {
   "cell_type": "code",
   "execution_count": null,
   "metadata": {
    "vscode": {
     "languageId": "plaintext"
    }
   },
   "outputs": [],
   "source": []
  },
  {
   "cell_type": "markdown",
   "metadata": {},
   "source": [
    "## Check 2 Numbers are Dividable\n",
    "Write a Python prgoram that takes 2 numbers and prints whether the first one is dividable by the second one or not. For example, if the user inputs 10 and 5, the program should print `\"10 is dividable by 5\"`. "
   ]
  },
  {
   "cell_type": "code",
   "execution_count": null,
   "metadata": {
    "vscode": {
     "languageId": "plaintext"
    }
   },
   "outputs": [],
   "source": []
  },
  {
   "cell_type": "markdown",
   "metadata": {},
   "source": [
    "## Multiply the List Elements\n",
    "Write a Python function that takes a list of values as input and returns the product of all the numbers in the list. For example, given the input list `[1, 3, 8]`, the function should return 24."
   ]
  },
  {
   "cell_type": "code",
   "execution_count": null,
   "metadata": {
    "vscode": {
     "languageId": "plaintext"
    }
   },
   "outputs": [],
   "source": []
  }
 ],
 "metadata": {
  "language_info": {
   "name": "python"
  }
 },
 "nbformat": 4,
 "nbformat_minor": 2
}
