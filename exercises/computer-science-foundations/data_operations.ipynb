{
 "cells": [
  {
   "cell_type": "markdown",
   "metadata": {},
   "source": [
    "# Data Operations"
   ]
  },
  {
   "cell_type": "markdown",
   "metadata": {},
   "source": [
    "## NOT Operation\n",
    "Show the result of the following operations.\n",
    "- NOT $ (99)_{16} $\n",
    "- NOT $ (FF)_{16} $\n",
    "- NOT $ (00)_{16} $\n",
    "- NOT $ (01)_{16} $"
   ]
  },
  {
   "cell_type": "code",
   "execution_count": null,
   "metadata": {
    "vscode": {
     "languageId": "plaintext"
    }
   },
   "outputs": [],
   "source": []
  },
  {
   "cell_type": "markdown",
   "metadata": {},
   "source": [
    "## AND Operation\n",
    "Show the result of the following operations.\n",
    "- $ (99)_{16} $ AND $ (99)_{16} $\n",
    "- $ (99)_{16} $ AND $ (00)_{16} $\n",
    "- $ (99)_{16} $ AND $ (FF)_{16} $\n",
    "- $ (FF)_{16} $ AND $ (FF)_{16} $"
   ]
  },
  {
   "cell_type": "code",
   "execution_count": null,
   "metadata": {
    "vscode": {
     "languageId": "plaintext"
    }
   },
   "outputs": [],
   "source": []
  },
  {
   "cell_type": "markdown",
   "metadata": {},
   "source": [
    "## OR Operation\n",
    "Show the result of the following operations.\n",
    "- $ (99)_{16} $ OR $ (99)_{16} $\n",
    "- $ (99)_{16} $ OR $ (00)_{16} $\n",
    "- $ (99)_{16} $ OR $ (FF)_{16} $\n",
    "- $ (FF)_{16} $ OR $ (FF)_{16} $"
   ]
  },
  {
   "cell_type": "code",
   "execution_count": null,
   "metadata": {
    "vscode": {
     "languageId": "plaintext"
    }
   },
   "outputs": [],
   "source": []
  },
  {
   "cell_type": "markdown",
   "metadata": {},
   "source": [
    "## Mixed Operations\n",
    "Show the result of the following operations.\n",
    "- NOT [$ (99)_{16} $ OR $ (99)_{16}$]\n",
    "- $ (99)_{16} $ OR [NOT $ (00)_{16} $]\n",
    "- [$ (99)_{16} $ AND $(33)_{16} $] OR [$ (00)_{16} $ AND $(FF)_{16} $]\n",
    "- $ (99)_{16} $ OR $ (33)_{16} $ AND [$ (00)_{16} $ OR $ (FF)_{16} $]\n"
   ]
  },
  {
   "cell_type": "code",
   "execution_count": null,
   "metadata": {
    "vscode": {
     "languageId": "plaintext"
    }
   },
   "outputs": [],
   "source": []
  }
 ],
 "metadata": {
  "language_info": {
   "name": "python"
  }
 },
 "nbformat": 4,
 "nbformat_minor": 2
}
