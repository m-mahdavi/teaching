{
 "cells": [
  {
   "cell_type": "markdown",
   "metadata": {},
   "source": [
    "# Computer Networks"
   ]
  },
  {
   "cell_type": "markdown",
   "metadata": {},
   "source": [
    "## Layers of TCP/IP Protocol Suite\n",
    "Match the following to one or more layers of the TCP/IP protocol suite.\n",
    "- Route determination.\n",
    "- Connection to transmission media.\n",
    "- Providing services for the end user.\n",
    "- Creating user datagrams.\n",
    "- Responsibility for handling frames between adjacent nodes.\n",
    "- Transforming bits to electromagnetic signals."
   ]
  },
  {
   "cell_type": "code",
   "execution_count": null,
   "metadata": {
    "vscode": {
     "languageId": "plaintext"
    }
   },
   "outputs": [],
   "source": []
  },
  {
   "cell_type": "markdown",
   "metadata": {},
   "source": [
    "## Protocol Layering in Air Travel\n",
    "Protocol layering can be found in many aspects of our lives such as air travelling. Imagine you make a round-trip to spend some time on vacation at a resort. You need to go through some processes at your city airport before flying. You also need to go through some processes when you arrive at the resort airport. Show the protocol layering for the round trip using some layers such as baggage checking/claiming, boarding/unboarding, takeoff/landing."
   ]
  },
  {
   "cell_type": "code",
   "execution_count": null,
   "metadata": {
    "vscode": {
     "languageId": "plaintext"
    }
   },
   "outputs": [],
   "source": []
  },
  {
   "cell_type": "markdown",
   "metadata": {},
   "source": [
    "## Convert Ethernet Address to Hexadecimal \n",
    "What is the hexadecimal equivalent of the following Ethernet address?\n",
    "- 01011010 00010001 01010101 00011000 10101010 00001111"
   ]
  },
  {
   "cell_type": "code",
   "execution_count": null,
   "metadata": {
    "vscode": {
     "languageId": "plaintext"
    }
   },
   "outputs": [],
   "source": []
  },
  {
   "cell_type": "markdown",
   "metadata": {},
   "source": [
    "## Convert IP Addresses to Binary \n",
    "Rewrite the following IP addresses using binary notation.\n",
    "- 110.11.5.88\n",
    "- 12.74.16.18\n",
    "- 201.24.44.32"
   ]
  },
  {
   "cell_type": "code",
   "execution_count": null,
   "metadata": {
    "vscode": {
     "languageId": "plaintext"
    }
   },
   "outputs": [],
   "source": []
  },
  {
   "cell_type": "markdown",
   "metadata": {},
   "source": [
    "## Convert IP Addresses to Dotted Decimal\n",
    "Rewrite the following IP addresses using dotted-decimal notation.\n",
    "- 01011110 10110000 01110101 00010101\n",
    "- 10001001 10001110 11010000 00110001\n",
    "- 01010111 10000100 00110111 00001111"
   ]
  },
  {
   "cell_type": "code",
   "execution_count": null,
   "metadata": {
    "vscode": {
     "languageId": "plaintext"
    }
   },
   "outputs": [],
   "source": []
  }
 ],
 "metadata": {
  "language_info": {
   "name": "python"
  }
 },
 "nbformat": 4,
 "nbformat_minor": 2
}
