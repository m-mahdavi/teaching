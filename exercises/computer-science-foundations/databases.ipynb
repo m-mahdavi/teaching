{
 "cells": [
  {
   "cell_type": "markdown",
   "metadata": {},
   "source": [
    "# Databases"
   ]
  },
  {
   "cell_type": "markdown",
   "metadata": {},
   "source": [
    "## Draw ER Diagram\n",
    "Create an ER diagram for a public library. Show the outline of the relations that can be created from that diagram."
   ]
  },
  {
   "cell_type": "code",
   "execution_count": null,
   "metadata": {
    "vscode": {
     "languageId": "plaintext"
    }
   },
   "outputs": [],
   "source": []
  },
  {
   "cell_type": "markdown",
   "metadata": {},
   "source": [
    "## Run SQL Statements\n",
    "You have relation A as shown below. Show the resulting relation if you apply the following SQL statements.\n",
    "| A1 | A2 | A3  |\n",
    "| -- | -- | --- |\n",
    "| 1  | 12 | 100 |\n",
    "| 2  | 16 | 102 |\n",
    "| 3  | 16 | 103 |\n",
    "| 4  | 19 | 104 |\n",
    "\n",
    "- select * from A where A2 = 16\n",
    "- select A1 A2 from A where A2 = 16\n",
    "- select A3 from A\n",
    "- update A set A1 = 37 where A1 = 4"
   ]
  },
  {
   "cell_type": "code",
   "execution_count": null,
   "metadata": {
    "vscode": {
     "languageId": "plaintext"
    }
   },
   "outputs": [],
   "source": []
  },
  {
   "cell_type": "markdown",
   "metadata": {},
   "source": [
    "## Normalization\n",
    "Is the following relation in first normal form (1NF)? If not, change the table to make it pass 1NF criteria.\n",
    "| A | B          | C     | D      |\n",
    "| - | ---------- | ----- | ------ |\n",
    "| 1 | 70         | 65    | 14     |\n",
    "| 2 | 25, 32, 71 | 24    | 12, 18 |\n",
    "| 3 | 32         | 6, 11 | 18     |"
   ]
  },
  {
   "cell_type": "code",
   "execution_count": null,
   "metadata": {
    "vscode": {
     "languageId": "plaintext"
    }
   },
   "outputs": [],
   "source": []
  }
 ],
 "metadata": {
  "language_info": {
   "name": "python"
  }
 },
 "nbformat": 4,
 "nbformat_minor": 2
}
