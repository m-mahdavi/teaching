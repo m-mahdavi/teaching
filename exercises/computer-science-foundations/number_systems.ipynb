{
 "cells": [
  {
   "cell_type": "markdown",
   "metadata": {},
   "source": [
    "# Number Systems"
   ]
  },
  {
   "cell_type": "markdown",
   "metadata": {},
   "source": [
    "## Convert Binary to Decimal\n",
    "Convert the following binary numbers to decimal without using a calculator.\n",
    "- $ (01101)_2 $\n",
    "- $ (1011000)_2 $\n",
    "- $ (011110.01)_2 $\n",
    "- $ (111111.111)_2 $"
   ]
  },
  {
   "cell_type": "code",
   "execution_count": null,
   "metadata": {
    "vscode": {
     "languageId": "plaintext"
    }
   },
   "outputs": [],
   "source": []
  },
  {
   "cell_type": "markdown",
   "metadata": {},
   "source": [
    "## Convert Decimal to Binary\n",
    "Convert the following decimal numbers to binary without using a calculator.\n",
    "- 1234\n",
    "- 88\n",
    "- 124.02\n",
    "- 14.56"
   ]
  },
  {
   "cell_type": "code",
   "execution_count": null,
   "metadata": {
    "vscode": {
     "languageId": "plaintext"
    }
   },
   "outputs": [],
   "source": []
  },
  {
   "cell_type": "markdown",
   "metadata": {},
   "source": [
    "## Convert Hexadecimal to Decimal\n",
    "Convert the following hexadecimal numbers to decimal without using a calculator.\n",
    "- $ (AB2)_{16} $\n",
    "- $ (123)_{16} $\n",
    "- $ (ABB)_{16} $\n",
    "- $ (35E.E1)_{16} $"
   ]
  },
  {
   "cell_type": "code",
   "execution_count": null,
   "metadata": {
    "vscode": {
     "languageId": "plaintext"
    }
   },
   "outputs": [],
   "source": []
  }
 ],
 "metadata": {
  "language_info": {
   "name": "python"
  }
 },
 "nbformat": 4,
 "nbformat_minor": 2
}
