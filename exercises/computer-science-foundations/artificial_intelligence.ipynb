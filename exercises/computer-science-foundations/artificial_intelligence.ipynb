{
 "cells": [
  {
   "cell_type": "markdown",
   "metadata": {},
   "source": [
    "# Artificial Intelligence"
   ]
  },
  {
   "cell_type": "markdown",
   "metadata": {},
   "source": [
    "## Propositional Logic\n",
    "Using the symbol R for the sentence \"It is raining\" and the symbol S for the sentence \"It is sunny\", write each of the following English sentences in propositional logic.\n",
    "- It is not raining.\n",
    "- It is not sunny.\n",
    "- It is neither raining nor sunny.\n",
    "- It is raining and sunny.\n",
    "- If it is sunny, then it is not raining.\n",
    "- If it is raining, then it is not sunny.\n",
    "- It is sunny if and only if it is not raining.\n",
    "- It is not true that if it is not raining, it is sunny."
   ]
  },
  {
   "cell_type": "code",
   "execution_count": null,
   "metadata": {
    "vscode": {
     "languageId": "plaintext"
    }
   },
   "outputs": [],
   "source": []
  },
  {
   "cell_type": "markdown",
   "metadata": {},
   "source": [
    "## Truth Table\n",
    "Use a truth table to find whether the following arguments are valid.\n",
    "- {P → Q, P} |- Q\n",
    "- {P ∨ Q, P} |- Q\n",
    "- {P ∧ Q, P} |- Q\n",
    "- {P → Q, Q → R} |- (P → R)"
   ]
  },
  {
   "cell_type": "code",
   "execution_count": null,
   "metadata": {
    "vscode": {
     "languageId": "plaintext"
    }
   },
   "outputs": [],
   "source": []
  },
  {
   "cell_type": "markdown",
   "metadata": {},
   "source": [
    "## Neural Network\n",
    "Draw a neural network to simulate each of the following gates.\n",
    "- An OR gate.\n",
    "- An AND gate."
   ]
  },
  {
   "cell_type": "code",
   "execution_count": null,
   "metadata": {
    "vscode": {
     "languageId": "plaintext"
    }
   },
   "outputs": [],
   "source": []
  }
 ],
 "metadata": {
  "language_info": {
   "name": "python"
  }
 },
 "nbformat": 4,
 "nbformat_minor": 2
}
